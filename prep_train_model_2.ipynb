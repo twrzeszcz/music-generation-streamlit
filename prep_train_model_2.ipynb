{
 "cells": [
  {
   "cell_type": "markdown",
   "metadata": {},
   "source": [
    "## Music generation project - separate inputs/outputs"
   ]
  },
  {
   "cell_type": "markdown",
   "metadata": {},
   "source": [
    "In this notebook we build a final model which is the most accurate one. There is no difference in the preprocessing with respect to the notebook with 3 different models until creation of the datasets. "
   ]
  },
  {
   "cell_type": "code",
   "execution_count": 772,
   "metadata": {},
   "outputs": [],
   "source": [
    "import numpy as np\n",
    "import matplotlib.pyplot as plt\n",
    "import glob\n",
    "from music21 import *\n",
    "import seaborn as sns\n",
    "import tensorflow as tf\n",
    "from tensorflow import keras \n",
    "import pandas as pd\n",
    "from fractions import Fraction\n",
    "import pickle\n",
    "from sklearn.model_selection import train_test_split\n",
    "\n",
    "%matplotlib inline"
   ]
  },
  {
   "cell_type": "markdown",
   "metadata": {},
   "source": [
    "### Preprocessing"
   ]
  },
  {
   "cell_type": "code",
   "execution_count": 779,
   "metadata": {},
   "outputs": [],
   "source": [
    "filepaths = glob.glob('data/*.mid')"
   ]
  },
  {
   "cell_type": "code",
   "execution_count": 780,
   "metadata": {},
   "outputs": [
    {
     "data": {
      "text/plain": [
       "['data\\\\Bach_-_Sonata_No._1_in_G_minor_-_BWV_1001_-_Presto.mid',\n",
       " 'data\\\\Concerto_in_A_minor_A_Vivaldi.mid',\n",
       " 'data\\\\Fur_Elise.mid',\n",
       " 'data\\\\Solo_Violin_Caprice_No._24_in_A_Minor_-_N._Paganini_Op._1_No._24.mid',\n",
       " 'data\\\\Solo_Violin_Partita_No._2_in_D_Minor_-_J._S._Bach_BWV_1004.mid',\n",
       " 'data\\\\Solo_Violin_Partita_No._3_in_E_Major_-_J._S._Bach_BWV_1006.mid',\n",
       " 'data\\\\Solo_Violin_Sonata_No._1_in_G_Minor_-_J._S._Bach_BWV_1001.mid',\n",
       " 'data\\\\Solo_Violin_Sonata_No._2_in_A_Minor_-_J._S._Bach_BWV_1003.mid',\n",
       " 'data\\\\Spring-Four_seasons_vivaldi.mid']"
      ]
     },
     "execution_count": 780,
     "metadata": {},
     "output_type": "execute_result"
    }
   ],
   "source": [
    "filepaths"
   ]
  },
  {
   "cell_type": "code",
   "execution_count": 781,
   "metadata": {},
   "outputs": [],
   "source": [
    "def read_parse_midi(file):\n",
    "    midi = converter.parse(file)\n",
    "    notes_to_parse = None\n",
    "    notes = []\n",
    "    durations = []\n",
    "    offsets = []\n",
    "    \n",
    "    parts = instrument.partitionByInstrument(midi)\n",
    "\n",
    "    for part in parts:\n",
    "        if 'Violin' or 'StringInstrument' in str(part):\n",
    "            notes_to_parse = part.recurse()\n",
    "            for i in range(len(notes_to_parse)):\n",
    "                if isinstance(notes_to_parse[i], note.Note):\n",
    "                    notes.append(str(notes_to_parse[i].pitch))\n",
    "                    durations.append(notes_to_parse[i].duration.quarterLength)\n",
    "                    offsets.append(Fraction(notes_to_parse[i].offset) - Fraction(notes_to_parse[i - 1].offset))\n",
    "                elif isinstance(notes_to_parse[i], chord.Chord):\n",
    "                    notes.append('.'.join(str(n) for n in notes_to_parse[i].normalOrder))\n",
    "                    durations.append(notes_to_parse[i].duration.quarterLength)\n",
    "                    offsets.append(Fraction(notes_to_parse[i].offset) - Fraction(notes_to_parse[i - 1].offset))\n",
    "                elif isinstance(notes_to_parse[i], note.Rest):\n",
    "                    notes.append(notes_to_parse[i].name)\n",
    "                    durations.append(notes_to_parse[i].duration.quarterLength)\n",
    "                    offsets.append(Fraction(notes_to_parse[i].offset) - Fraction(notes_to_parse[i - 1].offset))\n",
    "    return np.array(notes), np.array(durations), np.array(offsets)"
   ]
  },
  {
   "cell_type": "code",
   "execution_count": 782,
   "metadata": {},
   "outputs": [],
   "source": [
    "notes_durations_offsets = [read_parse_midi(file) for file in filepaths]"
   ]
  },
  {
   "cell_type": "code",
   "execution_count": 783,
   "metadata": {},
   "outputs": [],
   "source": [
    "notes_full = [notes_durations_offsets[i][0] for i in range(len(notes_durations_offsets))]\n",
    "durations_full = [notes_durations_offsets[i][1] for i in range(len(notes_durations_offsets))]\n",
    "offsets_full = [notes_durations_offsets[i][2] for i in range(len(notes_durations_offsets))]"
   ]
  },
  {
   "cell_type": "code",
   "execution_count": 784,
   "metadata": {},
   "outputs": [],
   "source": [
    "all_notes = [element for notes in notes_full for element in notes] \n",
    "all_durations = [element for durations in durations_full for element in durations]\n",
    "all_offsets = [element for offsets in offsets_full for element in offsets]\n",
    "unique_notes = set(all_notes)\n",
    "unique_durations = set(all_durations)\n",
    "unique_offsets = set(all_offsets)"
   ]
  },
  {
   "cell_type": "code",
   "execution_count": 785,
   "metadata": {},
   "outputs": [],
   "source": [
    "num_to_notes = dict([i for i in enumerate(sorted(list(unique_notes)))])\n",
    "notes_to_num = dict([reversed(i) for i in enumerate(sorted(list(unique_notes)))])"
   ]
  },
  {
   "cell_type": "code",
   "execution_count": 786,
   "metadata": {},
   "outputs": [],
   "source": [
    "num_to_dur = dict([i for i in enumerate(sorted(list(unique_durations)))])\n",
    "dur_to_num = dict([reversed(i) for i in enumerate(sorted(list(unique_durations)))])"
   ]
  },
  {
   "cell_type": "code",
   "execution_count": 787,
   "metadata": {},
   "outputs": [],
   "source": [
    "num_to_off = dict([i for i in enumerate(sorted(list(unique_offsets)))])\n",
    "off_to_num = dict([reversed(i) for i in enumerate(sorted(list(unique_offsets)))])"
   ]
  },
  {
   "cell_type": "code",
   "execution_count": 788,
   "metadata": {},
   "outputs": [],
   "source": [
    "notes_full_map = [list(map(notes_to_num.get, i)) for i in notes_full]"
   ]
  },
  {
   "cell_type": "code",
   "execution_count": 789,
   "metadata": {},
   "outputs": [],
   "source": [
    "durations_full_map = [list(map(dur_to_num.get, i)) for i in durations_full]"
   ]
  },
  {
   "cell_type": "code",
   "execution_count": 790,
   "metadata": {},
   "outputs": [],
   "source": [
    "offsets_full_map = [list(map(off_to_num.get, i)) for i in offsets_full]"
   ]
  },
  {
   "cell_type": "markdown",
   "metadata": {},
   "source": [
    "Similarly to the other model to make predictions we need some starting points which can be chosen randomly or taken from the validation set. Here we don't use the validation set but the entire data combined in tuples for each symbol as it can be seen below. Even though we have 3 separate models, starting points are correlated in terms of note, duration and offset."
   ]
  },
  {
   "cell_type": "code",
   "execution_count": 33,
   "metadata": {},
   "outputs": [],
   "source": [
    "full_data = [list(zip(notes_full_map[i], durations_full_map[i], offsets_full_map[i])) for i in range(len(notes_full_map))]"
   ]
  },
  {
   "cell_type": "code",
   "execution_count": 34,
   "metadata": {},
   "outputs": [
    {
     "data": {
      "text/plain": [
       "[(209, 3, 0),\n",
       " (171, 3, 3),\n",
       " (209, 3, 3),\n",
       " (186, 3, 3),\n",
       " (209, 3, 3),\n",
       " (186, 3, 3),\n",
       " (170, 3, 3),\n",
       " (186, 3, 3),\n",
       " (170, 3, 3),\n",
       " (208, 3, 3)]"
      ]
     },
     "execution_count": 34,
     "metadata": {},
     "output_type": "execute_result"
    }
   ],
   "source": [
    "full_data[0][:10]"
   ]
  },
  {
   "cell_type": "markdown",
   "metadata": {},
   "source": [
    "Since the functional API in keras does not easily support tf.datasets, we have to use arrays or tensors instead and separate features from targets. Therefore we split the entire dataset for train set and validation set and then extract notes, durations and offsets. Batches are created in the *fit* method when training is initialized."
   ]
  },
  {
   "cell_type": "code",
   "execution_count": 791,
   "metadata": {},
   "outputs": [],
   "source": [
    "def create_datasets(data, n_steps=100, batch_size=32, train_size=0.8):\n",
    "    window_length = n_steps + 1\n",
    "    datasets = []\n",
    "    for j in full_data:\n",
    "        dataset = tf.data.Dataset.from_tensor_slices(j)\n",
    "        dataset = dataset.window(window_length, shift=1, drop_remainder=True)\n",
    "        dataset = dataset.flat_map(lambda window: window.batch(window_length))\n",
    "        datasets.append(dataset)\n",
    "        \n",
    "    dataset_final = datasets[0]\n",
    "    for k in datasets[1:]:\n",
    "        dataset_final = dataset_final.concatenate(k)\n",
    "\n",
    "    dataset_final = dataset_final.map(lambda window: (window[:-1, :], window[1:, :]))\n",
    "    dataset_final = dataset_final.shuffle(30000)\n",
    "    \n",
    "    train_set, val_set = train_test_split(list(dataset_final), test_size=0.2)\n",
    "    \n",
    "    return train_set, val_set"
   ]
  },
  {
   "cell_type": "code",
   "execution_count": 792,
   "metadata": {},
   "outputs": [],
   "source": [
    "train_set, val_set = create_datasets(full_data)"
   ]
  },
  {
   "cell_type": "code",
   "execution_count": 793,
   "metadata": {},
   "outputs": [],
   "source": [
    "train_notes = tf.convert_to_tensor([i[0][:, 0] for i in train_set])\n",
    "targets_notes = tf.convert_to_tensor([i[1][:, 0] for i in train_set])\n",
    "\n",
    "train_durations = tf.convert_to_tensor([i[0][:, 1] for i in train_set])\n",
    "targets_durations = tf.convert_to_tensor([i[1][:, 1] for i in train_set])\n",
    "\n",
    "train_offsets = tf.convert_to_tensor([i[0][:, 2] for i in train_set])\n",
    "targets_offsets = tf.convert_to_tensor([i[1][:, 2] for i in train_set])"
   ]
  },
  {
   "cell_type": "code",
   "execution_count": 794,
   "metadata": {},
   "outputs": [],
   "source": [
    "val_notes = tf.convert_to_tensor([i[0][:, 0] for i in val_set])\n",
    "val_targets_notes = tf.convert_to_tensor([i[1][:, 0] for i in val_set])\n",
    "\n",
    "val_durations = tf.convert_to_tensor([i[0][:, 1] for i in val_set])\n",
    "val_targets_durations = tf.convert_to_tensor([i[1][:, 1] for i in val_set])\n",
    "\n",
    "val_offsets = tf.convert_to_tensor([i[0][:, 2] for i in val_set])\n",
    "val_targets_offsets = tf.convert_to_tensor([i[1][:, 2] for i in val_set])"
   ]
  },
  {
   "cell_type": "code",
   "execution_count": 795,
   "metadata": {},
   "outputs": [
    {
     "data": {
      "text/plain": [
       "(<tf.Tensor: shape=(100, 3), dtype=int32, numpy=\n",
       " array([[182,   3,   3],\n",
       "        [175,   3,   3],\n",
       "        [201,   3,   3],\n",
       "        [186,   3,   3],\n",
       "        [182,   3,   3],\n",
       "        [186,   3,   3],\n",
       "        [174,   3,   3],\n",
       "        [204,   3,   3],\n",
       "        [174,   3,   3],\n",
       "        [182,   3,   3],\n",
       "        [194,   3,   3],\n",
       "        [167,   3,   3],\n",
       "        [205,   3,   3],\n",
       "        [167,   3,   3],\n",
       "        [194,   3,   3],\n",
       "        [182,   3,   3],\n",
       "        [194,   3,   3],\n",
       "        [209,   3,   3],\n",
       "        [194,   3,   3],\n",
       "        [178,   3,   3],\n",
       "        [174,   3,   3],\n",
       "        [178,   3,   3],\n",
       "        [166,   3,   3],\n",
       "        [193,   3,   3],\n",
       "        [208,   3,   3],\n",
       "        [200,   3,   3],\n",
       "        [186,   3,   3],\n",
       "        [166,   3,   3],\n",
       "        [208,   3,   3],\n",
       "        [166,   3,   3],\n",
       "        [200,   3,   3],\n",
       "        [185,   3,   3],\n",
       "        [200,   3,   3],\n",
       "        [173,   3,   3],\n",
       "        [185,   3,   3],\n",
       "        [204,   3,   3],\n",
       "        [197,   3,   3],\n",
       "        [204,   3,   3],\n",
       "        [174,   3,   3],\n",
       "        [186,   3,   3],\n",
       "        [182,   3,   3],\n",
       "        [186,   3,   3],\n",
       "        [201,   3,   3],\n",
       "        [175,   3,   3],\n",
       "        [167,   3,   3],\n",
       "        [175,   3,   3],\n",
       "        [201,   3,   3],\n",
       "        [194,   3,   3],\n",
       "        [186,   3,   3],\n",
       "        [182,   3,   3],\n",
       "        [174,   3,   3],\n",
       "        [166,   3,   3],\n",
       "        [204,   3,   3],\n",
       "        [166,   3,   3],\n",
       "        [182,   3,   3],\n",
       "        [201,   3,   3],\n",
       "        [182,   3,   3],\n",
       "        [174,   3,   3],\n",
       "        [166,   3,   3],\n",
       "        [208,   3,   3],\n",
       "        [197,   3,   3],\n",
       "        [208,   3,   3],\n",
       "        [174,   3,   3],\n",
       "        [194,   3,   3],\n",
       "        [174,   3,   3],\n",
       "        [166,   3,   3],\n",
       "        [208,   3,   3],\n",
       "        [200,   3,   3],\n",
       "        [193,   3,   3],\n",
       "        [200,   3,   3],\n",
       "        [166,   3,   3],\n",
       "        [186,   3,   3],\n",
       "        [166,   3,   3],\n",
       "        [204,   3,   3],\n",
       "        [166,   3,   3],\n",
       "        [174,   3,   3],\n",
       "        [182,   3,   3],\n",
       "        [186,   3,   3],\n",
       "        [194,   3,   3],\n",
       "        [201,   3,   3],\n",
       "        [194,   3,   3],\n",
       "        [201,   3,   3],\n",
       "        [194,   3,   3],\n",
       "        [186,   3,   3],\n",
       "        [178,   3,   3],\n",
       "        [186,   3,   3],\n",
       "        [205,   3,   3],\n",
       "        [167,   3,   3],\n",
       "        [175,   3,   3],\n",
       "        [182,   3,   3],\n",
       "        [174,   3,   3],\n",
       "        [166,   3,   3],\n",
       "        [174,   3,   3],\n",
       "        [200,   3,   3],\n",
       "        [194,   3,   3],\n",
       "        [167,   3,   3],\n",
       "        [186,   3,   3],\n",
       "        [ 98,   6,   3],\n",
       "        [193,   3,   6],\n",
       "        [200,   3,   3]])>,\n",
       " <tf.Tensor: shape=(100, 3), dtype=int32, numpy=\n",
       " array([[175,   3,   3],\n",
       "        [201,   3,   3],\n",
       "        [186,   3,   3],\n",
       "        [182,   3,   3],\n",
       "        [186,   3,   3],\n",
       "        [174,   3,   3],\n",
       "        [204,   3,   3],\n",
       "        [174,   3,   3],\n",
       "        [182,   3,   3],\n",
       "        [194,   3,   3],\n",
       "        [167,   3,   3],\n",
       "        [205,   3,   3],\n",
       "        [167,   3,   3],\n",
       "        [194,   3,   3],\n",
       "        [182,   3,   3],\n",
       "        [194,   3,   3],\n",
       "        [209,   3,   3],\n",
       "        [194,   3,   3],\n",
       "        [178,   3,   3],\n",
       "        [174,   3,   3],\n",
       "        [178,   3,   3],\n",
       "        [166,   3,   3],\n",
       "        [193,   3,   3],\n",
       "        [208,   3,   3],\n",
       "        [200,   3,   3],\n",
       "        [186,   3,   3],\n",
       "        [166,   3,   3],\n",
       "        [208,   3,   3],\n",
       "        [166,   3,   3],\n",
       "        [200,   3,   3],\n",
       "        [185,   3,   3],\n",
       "        [200,   3,   3],\n",
       "        [173,   3,   3],\n",
       "        [185,   3,   3],\n",
       "        [204,   3,   3],\n",
       "        [197,   3,   3],\n",
       "        [204,   3,   3],\n",
       "        [174,   3,   3],\n",
       "        [186,   3,   3],\n",
       "        [182,   3,   3],\n",
       "        [186,   3,   3],\n",
       "        [201,   3,   3],\n",
       "        [175,   3,   3],\n",
       "        [167,   3,   3],\n",
       "        [175,   3,   3],\n",
       "        [201,   3,   3],\n",
       "        [194,   3,   3],\n",
       "        [186,   3,   3],\n",
       "        [182,   3,   3],\n",
       "        [174,   3,   3],\n",
       "        [166,   3,   3],\n",
       "        [204,   3,   3],\n",
       "        [166,   3,   3],\n",
       "        [182,   3,   3],\n",
       "        [201,   3,   3],\n",
       "        [182,   3,   3],\n",
       "        [174,   3,   3],\n",
       "        [166,   3,   3],\n",
       "        [208,   3,   3],\n",
       "        [197,   3,   3],\n",
       "        [208,   3,   3],\n",
       "        [174,   3,   3],\n",
       "        [194,   3,   3],\n",
       "        [174,   3,   3],\n",
       "        [166,   3,   3],\n",
       "        [208,   3,   3],\n",
       "        [200,   3,   3],\n",
       "        [193,   3,   3],\n",
       "        [200,   3,   3],\n",
       "        [166,   3,   3],\n",
       "        [186,   3,   3],\n",
       "        [166,   3,   3],\n",
       "        [204,   3,   3],\n",
       "        [166,   3,   3],\n",
       "        [174,   3,   3],\n",
       "        [182,   3,   3],\n",
       "        [186,   3,   3],\n",
       "        [194,   3,   3],\n",
       "        [201,   3,   3],\n",
       "        [194,   3,   3],\n",
       "        [201,   3,   3],\n",
       "        [194,   3,   3],\n",
       "        [186,   3,   3],\n",
       "        [178,   3,   3],\n",
       "        [186,   3,   3],\n",
       "        [205,   3,   3],\n",
       "        [167,   3,   3],\n",
       "        [175,   3,   3],\n",
       "        [182,   3,   3],\n",
       "        [174,   3,   3],\n",
       "        [166,   3,   3],\n",
       "        [174,   3,   3],\n",
       "        [200,   3,   3],\n",
       "        [194,   3,   3],\n",
       "        [167,   3,   3],\n",
       "        [186,   3,   3],\n",
       "        [ 98,   6,   3],\n",
       "        [193,   3,   6],\n",
       "        [200,   3,   3],\n",
       "        [193,   6,   3]])>)"
      ]
     },
     "execution_count": 795,
     "metadata": {},
     "output_type": "execute_result"
    }
   ],
   "source": [
    "train_set[505]"
   ]
  },
  {
   "cell_type": "code",
   "execution_count": 796,
   "metadata": {},
   "outputs": [
    {
     "data": {
      "text/plain": [
       "<tf.Tensor: shape=(100,), dtype=int32, numpy=\n",
       "array([3, 3, 3, 3, 3, 3, 3, 3, 3, 3, 3, 3, 3, 3, 3, 3, 3, 3, 3, 3, 3, 3,\n",
       "       3, 3, 3, 3, 3, 3, 3, 3, 3, 3, 3, 3, 3, 3, 3, 3, 3, 3, 3, 3, 3, 3,\n",
       "       3, 3, 3, 3, 3, 3, 3, 3, 3, 3, 3, 3, 3, 3, 3, 3, 3, 3, 3, 3, 3, 3,\n",
       "       3, 3, 3, 3, 3, 3, 3, 3, 3, 3, 3, 3, 3, 3, 3, 3, 3, 3, 3, 3, 3, 3,\n",
       "       3, 3, 3, 3, 3, 3, 3, 3, 3, 3, 6, 3])>"
      ]
     },
     "execution_count": 796,
     "metadata": {},
     "output_type": "execute_result"
    }
   ],
   "source": [
    "train_offsets[505]"
   ]
  },
  {
   "cell_type": "code",
   "execution_count": 797,
   "metadata": {},
   "outputs": [
    {
     "data": {
      "text/plain": [
       "<tf.Tensor: shape=(100,), dtype=int32, numpy=\n",
       "array([3, 3, 3, 3, 3, 3, 3, 3, 3, 3, 3, 3, 3, 3, 3, 3, 3, 3, 3, 3, 3, 3,\n",
       "       3, 3, 3, 3, 3, 3, 3, 3, 3, 3, 3, 3, 3, 3, 3, 3, 3, 3, 3, 3, 3, 3,\n",
       "       3, 3, 3, 3, 3, 3, 3, 3, 3, 3, 3, 3, 3, 3, 3, 3, 3, 3, 3, 3, 3, 3,\n",
       "       3, 3, 3, 3, 3, 3, 3, 3, 3, 3, 3, 3, 3, 3, 3, 3, 3, 3, 3, 3, 3, 3,\n",
       "       3, 3, 3, 3, 3, 3, 3, 3, 3, 6, 3, 3])>"
      ]
     },
     "execution_count": 797,
     "metadata": {},
     "output_type": "execute_result"
    }
   ],
   "source": [
    "targets_offsets[505]"
   ]
  },
  {
   "cell_type": "markdown",
   "metadata": {},
   "source": [
    "### Training"
   ]
  },
  {
   "cell_type": "markdown",
   "metadata": {},
   "source": [
    "The architecture is similar to the previous models but now we have 3 inputs so also 3 Embedding layers which are concatenated and additionally Input layers have to be set. There are also 3 Dense layers with number of units given be the unique values in notes, durations and offsets. Model has to be build with the functional API. Training was done for 15 epochs which gave more than 90% accuracy at all 3 outputs."
   ]
  },
  {
   "cell_type": "code",
   "execution_count": 599,
   "metadata": {},
   "outputs": [],
   "source": [
    "n_embedding_dims = 5\n",
    "\n",
    "notes_input = keras.layers.Input(shape=(None,))\n",
    "durations_input = keras.layers.Input(shape=(None,))\n",
    "offsets_input = keras.layers.Input(shape=(None,))\n",
    "\n",
    "note_embedding = keras.layers.Embedding(input_dim=len(unique_notes), output_dim=n_embedding_dims,\n",
    "                       input_length=None)(notes_input)\n",
    "duration_embedding = keras.layers.Embedding(input_dim=len(unique_durations), output_dim=n_embedding_dims,\n",
    "                       input_length=None)(durations_input)\n",
    "offset_embedding = keras.layers.Embedding(input_dim=len(unique_durations), output_dim=n_embedding_dims,\n",
    "                       input_length=None)(offsets_input)\n",
    "\n",
    "concat = keras.layers.Concatenate(axis=2)([note_embedding, duration_embedding, offset_embedding])\n",
    "\n",
    "conv_1 = keras.layers.Conv1D(32, kernel_size=2, padding=\"causal\", activation=\"relu\")(concat)\n",
    "batch_1 = keras.layers.BatchNormalization()(conv_1)\n",
    "conv_2 = keras.layers.Conv1D(48, kernel_size=2, padding=\"causal\", activation=\"relu\", dilation_rate=2)(batch_1)\n",
    "batch_2 = keras.layers.BatchNormalization()(conv_2)\n",
    "conv_3 = keras.layers.Conv1D(64, kernel_size=2, padding=\"causal\", activation=\"relu\", dilation_rate=4)(batch_2)\n",
    "batch_3 = keras.layers.BatchNormalization()(conv_3)\n",
    "conv_4 = keras.layers.Conv1D(96, kernel_size=2, padding=\"causal\", activation=\"relu\", dilation_rate=8)(batch_3)\n",
    "batch_4 = keras.layers.BatchNormalization()(conv_4)\n",
    "lstm_layer = keras.layers.LSTM(256, return_sequences=True)(batch_4)\n",
    "\n",
    "notes_output = keras.layers.Dense(len(unique_notes), activation=\"softmax\")(lstm_layer)\n",
    "durations_output = keras.layers.Dense(len(unique_durations), activation=\"softmax\")(lstm_layer)\n",
    "offsets_output = keras.layers.Dense(len(unique_offsets), activation=\"softmax\")(lstm_layer)\n",
    "\n",
    "final_model = keras.Model(inputs=[notes_input, durations_input, offsets_input], \n",
    "                          outputs=[notes_output, durations_output, offsets_output])\n",
    "\n",
    "checkpoint_cb = keras.callbacks.ModelCheckpoint('model_full.h5', save_best_only=True)\n",
    "early_stopping = keras.callbacks.EarlyStopping(patience=5, restore_best_weights=True)\n",
    "\n",
    "final_model.compile(loss='sparse_categorical_crossentropy', optimizer='adam', metrics=['accuracy'])   "
   ]
  },
  {
   "cell_type": "code",
   "execution_count": 600,
   "metadata": {},
   "outputs": [
    {
     "name": "stdout",
     "output_type": "stream",
     "text": [
      "Model: \"model_29\"\n",
      "__________________________________________________________________________________________________\n",
      "Layer (type)                    Output Shape         Param #     Connected to                     \n",
      "==================================================================================================\n",
      "input_108 (InputLayer)          [(None, None)]       0                                            \n",
      "__________________________________________________________________________________________________\n",
      "input_109 (InputLayer)          [(None, None)]       0                                            \n",
      "__________________________________________________________________________________________________\n",
      "input_110 (InputLayer)          [(None, None)]       0                                            \n",
      "__________________________________________________________________________________________________\n",
      "embedding_105 (Embedding)       (None, None, 5)      1060        input_108[0][0]                  \n",
      "__________________________________________________________________________________________________\n",
      "embedding_106 (Embedding)       (None, None, 5)      1015        input_109[0][0]                  \n",
      "__________________________________________________________________________________________________\n",
      "embedding_107 (Embedding)       (None, None, 5)      1015        input_110[0][0]                  \n",
      "__________________________________________________________________________________________________\n",
      "concatenate_37 (Concatenate)    (None, None, 15)     0           embedding_105[0][0]              \n",
      "                                                                 embedding_106[0][0]              \n",
      "                                                                 embedding_107[0][0]              \n",
      "__________________________________________________________________________________________________\n",
      "conv1d_10 (Conv1D)              (None, None, 32)     992         concatenate_37[0][0]             \n",
      "__________________________________________________________________________________________________\n",
      "batch_normalization_10 (BatchNo (None, None, 32)     128         conv1d_10[0][0]                  \n",
      "__________________________________________________________________________________________________\n",
      "conv1d_11 (Conv1D)              (None, None, 48)     3120        batch_normalization_10[0][0]     \n",
      "__________________________________________________________________________________________________\n",
      "batch_normalization_11 (BatchNo (None, None, 48)     192         conv1d_11[0][0]                  \n",
      "__________________________________________________________________________________________________\n",
      "conv1d_12 (Conv1D)              (None, None, 64)     6208        batch_normalization_11[0][0]     \n",
      "__________________________________________________________________________________________________\n",
      "batch_normalization_12 (BatchNo (None, None, 64)     256         conv1d_12[0][0]                  \n",
      "__________________________________________________________________________________________________\n",
      "conv1d_13 (Conv1D)              (None, None, 96)     12384       batch_normalization_12[0][0]     \n",
      "__________________________________________________________________________________________________\n",
      "batch_normalization_13 (BatchNo (None, None, 96)     384         conv1d_13[0][0]                  \n",
      "__________________________________________________________________________________________________\n",
      "lstm_35 (LSTM)                  (None, None, 256)    361472      batch_normalization_13[0][0]     \n",
      "__________________________________________________________________________________________________\n",
      "dense_99 (Dense)                (None, None, 212)    54484       lstm_35[0][0]                    \n",
      "__________________________________________________________________________________________________\n",
      "dense_100 (Dense)               (None, None, 203)    52171       lstm_35[0][0]                    \n",
      "__________________________________________________________________________________________________\n",
      "dense_101 (Dense)               (None, None, 21)     5397        lstm_35[0][0]                    \n",
      "==================================================================================================\n",
      "Total params: 500,278\n",
      "Trainable params: 499,798\n",
      "Non-trainable params: 480\n",
      "__________________________________________________________________________________________________\n"
     ]
    }
   ],
   "source": [
    "final_model.summary()"
   ]
  },
  {
   "cell_type": "code",
   "execution_count": 601,
   "metadata": {},
   "outputs": [
    {
     "data": {
      "image/png": "[encoded data removed]",
      "text/plain": [
       "<IPython.core.display.Image object>"
      ]
     },
     "execution_count": 601,
     "metadata": {},
     "output_type": "execute_result"
    }
   ],
   "source": [
    "keras.utils.plot_model(final_model)"
   ]
  },
  {
   "cell_type": "code",
   "execution_count": 603,
   "metadata": {},
   "outputs": [
    {
     "name": "stdout",
     "output_type": "stream",
     "text": [
      "Epoch 1/15\n",
      "360/360 [==============================] - 85s 237ms/step - loss: 3.3315 - dense_99_loss: 2.6262 - dense_100_loss: 0.4918 - dense_101_loss: 0.2136 - dense_99_accuracy: 0.2652 - dense_100_accuracy: 0.8635 - dense_101_accuracy: 0.9404 - val_loss: 4.9609 - val_dense_99_loss: 3.4858 - val_dense_100_loss: 0.9054 - val_dense_101_loss: 0.5698 - val_dense_99_accuracy: 0.1530 - val_dense_100_accuracy: 0.7119 - val_dense_101_accuracy: 0.8066\n",
      "Epoch 2/15\n",
      "360/360 [==============================] - 84s 234ms/step - loss: 2.3303 - dense_99_loss: 1.9253 - dense_100_loss: 0.2988 - dense_101_loss: 0.1062 - dense_99_accuracy: 0.4547 - dense_100_accuracy: 0.9134 - dense_101_accuracy: 0.9729 - val_loss: 2.0717 - val_dense_99_loss: 1.7149 - val_dense_100_loss: 0.2539 - val_dense_101_loss: 0.1029 - val_dense_99_accuracy: 0.5116 - val_dense_100_accuracy: 0.9281 - val_dense_101_accuracy: 0.9731\n",
      "Epoch 3/15\n",
      "360/360 [==============================] - 86s 240ms/step - loss: 1.5835 - dense_99_loss: 1.3138 - dense_100_loss: 0.1914 - dense_101_loss: 0.0783 - dense_99_accuracy: 0.6500 - dense_100_accuracy: 0.9476 - dense_101_accuracy: 0.9804 - val_loss: 1.3694 - val_dense_99_loss: 1.1454 - val_dense_100_loss: 0.1571 - val_dense_101_loss: 0.0669 - val_dense_99_accuracy: 0.6947 - val_dense_100_accuracy: 0.9602 - val_dense_101_accuracy: 0.9838\n",
      "Epoch 4/15\n",
      "360/360 [==============================] - 84s 233ms/step - loss: 1.0508 - dense_99_loss: 0.8616 - dense_100_loss: 0.1309 - dense_101_loss: 0.0582 - dense_99_accuracy: 0.7908 - dense_100_accuracy: 0.9674 - dense_101_accuracy: 0.9861 - val_loss: 0.9507 - val_dense_99_loss: 0.7841 - val_dense_100_loss: 0.1151 - val_dense_101_loss: 0.0514 - val_dense_99_accuracy: 0.8076 - val_dense_100_accuracy: 0.9720 - val_dense_101_accuracy: 0.9879\n",
      "Epoch 5/15\n",
      "360/360 [==============================] - 83s 231ms/step - loss: 0.7576 - dense_99_loss: 0.6084 - dense_100_loss: 0.1011 - dense_101_loss: 0.0481 - dense_99_accuracy: 0.8631 - dense_100_accuracy: 0.9758 - dense_101_accuracy: 0.9887 - val_loss: 0.7642 - val_dense_99_loss: 0.5797 - val_dense_100_loss: 0.1296 - val_dense_101_loss: 0.0549 - val_dense_99_accuracy: 0.8653 - val_dense_100_accuracy: 0.9606 - val_dense_101_accuracy: 0.9856\n",
      "Epoch 6/15\n",
      "360/360 [==============================] - 87s 242ms/step - loss: 0.6322 - dense_99_loss: 0.4974 - dense_100_loss: 0.0910 - dense_101_loss: 0.0439 - dense_99_accuracy: 0.8874 - dense_100_accuracy: 0.9773 - dense_101_accuracy: 0.9892 - val_loss: 0.6505 - val_dense_99_loss: 0.4971 - val_dense_100_loss: 0.1037 - val_dense_101_loss: 0.0497 - val_dense_99_accuracy: 0.8845 - val_dense_100_accuracy: 0.9718 - val_dense_101_accuracy: 0.9864\n",
      "Epoch 7/15\n",
      "360/360 [==============================] - 93s 257ms/step - loss: 0.5287 - dense_99_loss: 0.4129 - dense_100_loss: 0.0776 - dense_101_loss: 0.0382 - dense_99_accuracy: 0.9061 - dense_100_accuracy: 0.9807 - dense_101_accuracy: 0.9905 - val_loss: 0.5310 - val_dense_99_loss: 0.4233 - val_dense_100_loss: 0.0723 - val_dense_101_loss: 0.0354 - val_dense_99_accuracy: 0.8976 - val_dense_100_accuracy: 0.9822 - val_dense_101_accuracy: 0.9912\n",
      "Epoch 8/15\n",
      "360/360 [==============================] - 87s 242ms/step - loss: 0.4506 - dense_99_loss: 0.3506 - dense_100_loss: 0.0667 - dense_101_loss: 0.0333 - dense_99_accuracy: 0.9191 - dense_100_accuracy: 0.9833 - dense_101_accuracy: 0.9916 - val_loss: 0.4349 - val_dense_99_loss: 0.3376 - val_dense_100_loss: 0.0649 - val_dense_101_loss: 0.0324 - val_dense_99_accuracy: 0.9217 - val_dense_100_accuracy: 0.9837 - val_dense_101_accuracy: 0.9920\n",
      "Epoch 9/15\n",
      "360/360 [==============================] - 85s 236ms/step - loss: 0.4052 - dense_99_loss: 0.3138 - dense_100_loss: 0.0608 - dense_101_loss: 0.0306 - dense_99_accuracy: 0.9258 - dense_100_accuracy: 0.9846 - dense_101_accuracy: 0.9921 - val_loss: 0.5438 - val_dense_99_loss: 0.4342 - val_dense_100_loss: 0.0718 - val_dense_101_loss: 0.0379 - val_dense_99_accuracy: 0.8908 - val_dense_100_accuracy: 0.9819 - val_dense_101_accuracy: 0.9898\n",
      "Epoch 10/15\n",
      "360/360 [==============================] - 88s 244ms/step - loss: 0.4104 - dense_99_loss: 0.3182 - dense_100_loss: 0.0613 - dense_101_loss: 0.0309 - dense_99_accuracy: 0.9219 - dense_100_accuracy: 0.9839 - dense_101_accuracy: 0.9917 - val_loss: 0.4495 - val_dense_99_loss: 0.3471 - val_dense_100_loss: 0.0691 - val_dense_101_loss: 0.0333 - val_dense_99_accuracy: 0.9140 - val_dense_100_accuracy: 0.9811 - val_dense_101_accuracy: 0.9912\n",
      "Epoch 11/15\n",
      "360/360 [==============================] - 84s 235ms/step - loss: 0.3935 - dense_99_loss: 0.3054 - dense_100_loss: 0.0588 - dense_101_loss: 0.0294 - dense_99_accuracy: 0.9234 - dense_100_accuracy: 0.9843 - dense_101_accuracy: 0.9921 - val_loss: 0.5042 - val_dense_99_loss: 0.4072 - val_dense_100_loss: 0.0649 - val_dense_101_loss: 0.0321 - val_dense_99_accuracy: 0.8915 - val_dense_100_accuracy: 0.9823 - val_dense_101_accuracy: 0.9911\n",
      "Epoch 12/15\n",
      "360/360 [==============================] - 86s 238ms/step - loss: 0.3506 - dense_99_loss: 0.2705 - dense_100_loss: 0.0534 - dense_101_loss: 0.0268 - dense_99_accuracy: 0.9320 - dense_100_accuracy: 0.9857 - dense_101_accuracy: 0.9927 - val_loss: 0.4958 - val_dense_99_loss: 0.4021 - val_dense_100_loss: 0.0622 - val_dense_101_loss: 0.0315 - val_dense_99_accuracy: 0.8924 - val_dense_100_accuracy: 0.9835 - val_dense_101_accuracy: 0.9912\n",
      "Epoch 13/15\n",
      "360/360 [==============================] - 85s 236ms/step - loss: 0.3555 - dense_99_loss: 0.2760 - dense_100_loss: 0.0530 - dense_101_loss: 0.0265 - dense_99_accuracy: 0.9289 - dense_100_accuracy: 0.9856 - dense_101_accuracy: 0.9926 - val_loss: 0.3689 - val_dense_99_loss: 0.2890 - val_dense_100_loss: 0.0536 - val_dense_101_loss: 0.0263 - val_dense_99_accuracy: 0.9262 - val_dense_100_accuracy: 0.9857 - val_dense_101_accuracy: 0.9930\n",
      "Epoch 14/15\n",
      "360/360 [==============================] - 86s 238ms/step - loss: 0.3194 - dense_99_loss: 0.2460 - dense_100_loss: 0.0487 - dense_101_loss: 0.0248 - dense_99_accuracy: 0.9371 - dense_100_accuracy: 0.9867 - dense_101_accuracy: 0.9931 - val_loss: 0.3799 - val_dense_99_loss: 0.3030 - val_dense_100_loss: 0.0513 - val_dense_101_loss: 0.0257 - val_dense_99_accuracy: 0.9198 - val_dense_100_accuracy: 0.9862 - val_dense_101_accuracy: 0.9930\n",
      "Epoch 15/15\n",
      "360/360 [==============================] - 85s 238ms/step - loss: 0.2991 - dense_99_loss: 0.2303 - dense_100_loss: 0.0456 - dense_101_loss: 0.0233 - dense_99_accuracy: 0.9408 - dense_100_accuracy: 0.9876 - dense_101_accuracy: 0.9935 - val_loss: 0.3612 - val_dense_99_loss: 0.2785 - val_dense_100_loss: 0.0554 - val_dense_101_loss: 0.0273 - val_dense_99_accuracy: 0.9280 - val_dense_100_accuracy: 0.9846 - val_dense_101_accuracy: 0.9924\n"
     ]
    }
   ],
   "source": [
    "history = final_model.fit([train_notes, train_durations, train_offsets], [targets_notes, targets_durations, targets_offsets],\n",
    "                    epochs=15, batch_size=64,\n",
    "                    validation_data=((val_notes, val_durations, val_offsets), \n",
    "                                     (val_targets_notes, val_targets_durations, val_targets_offsets)), \n",
    "                    callbacks=[checkpoint_cb, early_stopping])"
   ]
  },
  {
   "cell_type": "code",
   "execution_count": 604,
   "metadata": {},
   "outputs": [],
   "source": [
    "model_full= keras.models.load_model('model_full.h5')"
   ]
  },
  {
   "cell_type": "markdown",
   "metadata": {},
   "source": [
    "### Predictions"
   ]
  },
  {
   "cell_type": "code",
   "execution_count": 798,
   "metadata": {},
   "outputs": [],
   "source": [
    "def gen_pred(n_steps=10, temperature_note=1.0, temperature_dur=1.0, temperature_off=1.0):\n",
    "#     idx = np.random.randint(0, len(val_notes))\n",
    "    \n",
    "#     gen_pred = [tf.expand_dims(val_notes[0, :3], axis=0), \n",
    "#                     tf.expand_dims(val_durations[0, :3], axis=0), \n",
    "#                     tf.expand_dims(val_offsets[0, :3], axis=0)]\n",
    "    \n",
    "    sample_notes = tf.convert_to_tensor(np.random.randint(0, len(unique_notes), (1, 3)))\n",
    "    sample_dur = tf.convert_to_tensor(np.random.randint(0, len(unique_durations), (1, 3)))\n",
    "    sample_off = tf.convert_to_tensor(np.random.randint(0, len(unique_offsets), (1, 3)))\n",
    "    gen_pred = [sample_notes, sample_dur, sample_off]\n",
    "\n",
    "#     for step in range(n_steps):\n",
    "#         pred = model_full.predict(gen_pred)\n",
    "#         gen_pred = [np.concatenate([gen_pred[i], np.argmax(pred[i][:, -1, :], axis=-1).reshape(1, 1)], axis=1) for i in range(len(gen_pred))]\n",
    "\n",
    "    \n",
    "    for step in range(n_steps):\n",
    "        pred = model_full.predict(gen_pred)\n",
    "        \n",
    "        next_note = tf.random.categorical(tf.math.log(pred[0][:, -1, :]) / temperature_note, num_samples=1)\n",
    "        next_dur = tf.random.categorical(tf.math.log(pred[1][:, -1, :]) / temperature_dur, num_samples=1)\n",
    "        next_off = tf.random.categorical(tf.math.log(pred[2][:, -1, :]) / temperature_off, num_samples=1)\n",
    "        \n",
    "        gen_pred = [np.concatenate([gen_pred[i], j], axis=1) for i, j in enumerate([next_note, next_dur, next_off])]\n",
    "        \n",
    "    sample_notes_mapped = list(map(num_to_notes.get, list(gen_pred[0].flatten())))\n",
    "    sample_dur_mapped = list(map(num_to_dur.get, list(gen_pred[1].flatten())))\n",
    "    sample_off_mapped = list(map(num_to_off.get, list(gen_pred[2].flatten())))\n",
    "    \n",
    "    return sample_notes_mapped, sample_dur_mapped, sample_off_mapped "
   ]
  },
  {
   "cell_type": "code",
   "execution_count": 799,
   "metadata": {},
   "outputs": [],
   "source": [
    "def gen_midi(pred):\n",
    "    pred_notes, pred_dur, pred_off = pred\n",
    "    offset = Fraction(0.0)\n",
    "    output_notes = []\n",
    "    for pattern, dur, off in zip(pred_notes, pred_dur, pred_off):\n",
    "        if ('.' in pattern) or pattern.isdigit():\n",
    "            offset += Fraction(off)\n",
    "            notes_in_chord = pattern.split('.')\n",
    "            notes = []\n",
    "            for current_note in notes_in_chord:\n",
    "                new_note = note.Note(int(current_note))\n",
    "                new_note.storedInstrument = instrument.Piano()\n",
    "                notes.append(new_note)\n",
    "            new_chord = chord.Chord(notes)\n",
    "            new_chord.offset = offset\n",
    "            new_chord.duration = duration.Duration(dur)\n",
    "            output_notes.append(new_chord)\n",
    "        elif pattern == 'rest':\n",
    "            offset += Fraction(off)\n",
    "            new_note = note.Rest(pattern)\n",
    "            new_note.offset = offset\n",
    "            new_note.storedInstrument = instrument.Piano()\n",
    "            new_note.duration = duration.Duration(dur)\n",
    "            output_notes.append(new_note)\n",
    "        else:\n",
    "            offset += Fraction(off)\n",
    "            new_note = note.Note(pattern)\n",
    "            new_note.offset = offset\n",
    "            new_note.storedInstrument = instrument.Piano()\n",
    "            new_note.duration = duration.Duration(dur)\n",
    "            output_notes.append(new_note)\n",
    "    \n",
    "    midi_stream = stream.Stream(output_notes)\n",
    "    midi_stream.write('midi', fp='gen_music.mid')\n",
    "    midi_stream.show('midi')"
   ]
  },
  {
   "cell_type": "code",
   "execution_count": 802,
   "metadata": {},
   "outputs": [
    {
     "data": {
      "text/html": [
       "\n",
       "                <div id='midiPlayerDiv431503'></div>\n",
       "                <link rel=\"stylesheet\" href=\"//cuthbertLab.github.io/music21j/css/m21.css\"\n",
       "                    type=\"text/css\" />\n",
       "                <script>\n",
       "                require.config({\n",
       "                    paths: {'music21': '//cuthbertLab.github.io/music21j/src/music21'}\n",
       "                });\n",
       "                require(['music21'], function() {\n",
       "                               mp = new music21.miditools.MidiPlayer();\n",
       "                               mp.addPlayer('#midiPlayerDiv431503');\n",
       "                               mp.base64Load('data:audio/midi;base64,TVRoZAAAAAYAAQACBABNVHJrAAAAFAD/UQMHoSAA/1gEBAIYCIgA/y8ATVRyawAAAVgA/wMAAOAAQJYAkEdaAJA8WpIAkEZaAJA8WgCQR1oAkD5aAJBAWgCQQ1qEAJBCWoQAgEIAAJBCWgCQRVoAkDxaAJA+WoQAgEIAAIBFAACAPAAAgD4AAJA+WgCQQVqEAIA+AACAQQAAkD9aAJBBWgCQRVqEAIA/AACAQQAAgEUAAJBGWgCQPloAkEFahACARgAAgD4AAIBBAACQTFpVgEcAAIA+AACAQAAAgEMAgyuATAAAkENaAJBHWgCQPlqEAIBDAACARwAAgD4AAJBHWoQAgEcAAJBIWoQAgEgAAJBMWoQAgEwAAJBMWoQAgEwAAJBPWoQAgE8AAJBAWoQAgEAAAJBMWoQAgEwAAJBOWoQAgE4AAJBMWoQAgEwAAJBMWoQAgEwAAJBLWoQAgEsAAJBJWoQAgEkAAJBHWoQAgEcAgaErgEYAAIA8AKy3KoBHAACAPACIAP8vAA==');\n",
       "                        });\n",
       "                </script>"
      ],
      "text/plain": [
       "<IPython.core.display.HTML object>"
      ]
     },
     "metadata": {},
     "output_type": "display_data"
    }
   ],
   "source": [
    "preds = gen_pred(n_steps=20, temperature_note=0.5, temperature_dur=1.0, temperature_off=1.0)\n",
    "gen_midi(preds)"
   ]
  },
  {
   "cell_type": "code",
   "execution_count": 803,
   "metadata": {
    "scrolled": true
   },
   "outputs": [
    {
     "data": {
      "text/plain": [
       "(['11.0',\n",
       "  '10.0',\n",
       "  '11.2.4.7',\n",
       "  '6',\n",
       "  '6.9.0.2',\n",
       "  '2.5',\n",
       "  '3.5.9',\n",
       "  '10.2.5',\n",
       "  'E5',\n",
       "  '7.11.2',\n",
       "  'B4',\n",
       "  'C5',\n",
       "  'E5',\n",
       "  'E5',\n",
       "  'G5',\n",
       "  'E4',\n",
       "  'E5',\n",
       "  'F#5',\n",
       "  'E5',\n",
       "  'E5',\n",
       "  'E-5',\n",
       "  'C#5',\n",
       "  'B4'],\n",
       " [Fraction(4463, 6),\n",
       "  Fraction(92, 3),\n",
       "  Fraction(37, 12),\n",
       "  0.5,\n",
       "  0.5,\n",
       "  0.5,\n",
       "  0.5,\n",
       "  0.5,\n",
       "  0.5,\n",
       "  0.5,\n",
       "  0.5,\n",
       "  0.5,\n",
       "  0.5,\n",
       "  0.5,\n",
       "  0.5,\n",
       "  0.5,\n",
       "  0.5,\n",
       "  0.5,\n",
       "  0.5,\n",
       "  0.5,\n",
       "  0.5,\n",
       "  0.5,\n",
       "  0.5],\n",
       " [Fraction(7, 4),\n",
       "  Fraction(9, 4),\n",
       "  Fraction(0, 1),\n",
       "  Fraction(1, 2),\n",
       "  Fraction(1, 2),\n",
       "  Fraction(1, 2),\n",
       "  Fraction(1, 2),\n",
       "  Fraction(1, 2),\n",
       "  Fraction(1, 2),\n",
       "  Fraction(1, 2),\n",
       "  Fraction(1, 2),\n",
       "  Fraction(1, 2),\n",
       "  Fraction(1, 2),\n",
       "  Fraction(1, 2),\n",
       "  Fraction(1, 2),\n",
       "  Fraction(1, 2),\n",
       "  Fraction(1, 2),\n",
       "  Fraction(1, 2),\n",
       "  Fraction(1, 2),\n",
       "  Fraction(1, 2),\n",
       "  Fraction(1, 2),\n",
       "  Fraction(1, 2),\n",
       "  Fraction(1, 2)])"
      ]
     },
     "execution_count": 803,
     "metadata": {},
     "output_type": "execute_result"
    }
   ],
   "source": [
    "preds"
   ]
  },
  {
   "cell_type": "code",
   "execution_count": null,
   "metadata": {},
   "outputs": [],
   "source": []
  }
 ],
 "metadata": {
  "kernelspec": {
   "display_name": "Python 3",
   "language": "python",
   "name": "python3"
  },
  "language_info": {
   "codemirror_mode": {
    "name": "ipython",
    "version": 3
   },
   "file_extension": ".py",
   "mimetype": "text/x-python",
   "name": "python",
   "nbconvert_exporter": "python",
   "pygments_lexer": "ipython3",
   "version": "3.8.5"
  }
 },
 "nbformat": 4,
 "nbformat_minor": 4
}
